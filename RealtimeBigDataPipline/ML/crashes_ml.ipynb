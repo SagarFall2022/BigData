{
 "cells": [
  {
   "cell_type": "markdown",
   "id": "b1c5cfe9",
   "metadata": {},
   "source": [
    "## Import Packages"
   ]
  },
  {
   "cell_type": "code",
   "execution_count": 16,
   "id": "132a0e51",
   "metadata": {
    "ExecuteTime": {
     "end_time": "2023-04-30T01:38:01.761188Z",
     "start_time": "2023-04-30T01:38:00.848843Z"
    }
   },
   "outputs": [],
   "source": [
    "import pandas as pd\n",
    "#import boto3\n",
    "import pickle\n",
    "import json\n",
    "import numpy as np\n",
    "from scipy.stats import chi2_contingency\n",
    "\n",
    "from sklearn.model_selection import train_test_split, GridSearchCV\n",
    "from sklearn.linear_model import LogisticRegression\n",
    "from sklearn.metrics import confusion_matrix, accuracy_score\n",
    "from sklearn.ensemble import RandomForestClassifier"
   ]
  },
  {
   "cell_type": "markdown",
   "id": "27cb56c6",
   "metadata": {},
   "source": [
    "## Load data from S3"
   ]
  },
  {
   "cell_type": "code",
   "execution_count": 7,
   "id": "247b3822",
   "metadata": {},
   "outputs": [
    {
     "name": "stdout",
     "output_type": "stream",
     "text": [
      "Crashes/0/19.json\n",
      "Crashes/0/29.json\n",
      "Crashes/0/39.json\n",
      "Crashes/0/49.json\n",
      "Crashes/0/59.json\n",
      "Crashes/0/62.json\n",
      "Crashes/0/9.json\n"
     ]
    }
   ],
   "source": [
    "bucket = 'csp554-project-crashes'\n",
    "subfolder = 'Crashes/0/'\n",
    "conn = boto3.client('s3')\n",
    "contents = conn.list_objects(Bucket=bucket, Prefix=subfolder)['Contents']\n",
    "try:\n",
    "    del(data)\n",
    "except:\n",
    "    pass\n",
    "for f in contents:\n",
    "    print(f['Key'])\n",
    "    response = conn.get_object(Bucket=bucket, Key=f['Key'])\n",
    "    body = response['Body']\n",
    "    body = body.read()\n",
    "    body = body.decode('utf-8')\n",
    "    df = json.loads(body)\n",
    "    df= pd.DataFrame(df)\n",
    "    \n",
    "    if 'data' in locals():\n",
    "        data = pd.concat([data, df])\n",
    "    else:\n",
    "        data = df.copy()\n",
    "data2 = data.copy()"
   ]
  },
  {
   "cell_type": "code",
   "execution_count": 6,
   "id": "871910c7",
   "metadata": {
    "ExecuteTime": {
     "end_time": "2023-04-30T01:36:58.336210Z",
     "start_time": "2023-04-30T01:36:57.857724Z"
    }
   },
   "outputs": [],
   "source": [
    "import glob\n",
    "import pandas as pd"
   ]
  },
  {
   "cell_type": "code",
   "execution_count": 105,
   "id": "3cc73626",
   "metadata": {
    "ExecuteTime": {
     "end_time": "2023-04-30T03:12:42.230000Z",
     "start_time": "2023-04-30T03:12:41.205816Z"
    }
   },
   "outputs": [],
   "source": [
    "try:\n",
    "    del(data)\n",
    "except:\n",
    "    pass\n",
    "for file in glob.glob(\"C:\\MS in Data Science\\IIT\\Courses\\CSP 554 - Big Data\\Project\\Datasets\\Crashes\\*.json\"):\n",
    "    df= pd.read_json(file)\n",
    "    \n",
    "    if 'data' in locals():\n",
    "        data = pd.concat([data, df])\n",
    "    else:\n",
    "        data = df.copy()"
   ]
  },
  {
   "cell_type": "code",
   "execution_count": 111,
   "id": "d1d631b5",
   "metadata": {
    "ExecuteTime": {
     "end_time": "2023-04-30T03:13:19.311673Z",
     "start_time": "2023-04-30T03:13:19.302585Z"
    }
   },
   "outputs": [
    {
     "data": {
      "text/plain": [
       "lighting_condition\n",
       "0    13027\n",
       "1    18231\n",
       "Name: injuries_total, dtype: int64"
      ]
     },
     "execution_count": 111,
     "metadata": {},
     "output_type": "execute_result"
    }
   ],
   "source": [
    "data.groupby([\"lighting_condition\"])['injuries_total'].count()"
   ]
  },
  {
   "cell_type": "code",
   "execution_count": 8,
   "id": "43c629d0",
   "metadata": {
    "ExecuteTime": {
     "end_time": "2023-04-30T01:37:08.615485Z",
     "start_time": "2023-04-30T01:37:08.601051Z"
    }
   },
   "outputs": [
    {
     "data": {
      "text/plain": [
       "(31258, 48)"
      ]
     },
     "execution_count": 8,
     "metadata": {},
     "output_type": "execute_result"
    }
   ],
   "source": [
    "data.shape"
   ]
  },
  {
   "cell_type": "markdown",
   "id": "8d37b3dd",
   "metadata": {},
   "source": [
    "## Drop Unnecessary Variables"
   ]
  },
  {
   "cell_type": "code",
   "execution_count": 106,
   "id": "0bca60ae",
   "metadata": {
    "ExecuteTime": {
     "end_time": "2023-04-30T03:12:44.170863Z",
     "start_time": "2023-04-30T03:12:43.887126Z"
    }
   },
   "outputs": [],
   "source": [
    "data = data.fillna(0)\n",
    "data = data.drop(['crash_record_id', 'crash_date', 'date_police_notified', 'prim_contributory_cause', 'sec_contributory_cause',\n",
    "                 'street_no', 'street_name', \"injuries_fatal\", \"injuries_incapacitating\", \"injuries_reported_not_evident\",\n",
    "                  \"injuries_no_indication\", \"injuries_unknown\", \"crash_month\", \"latitude\", \"longitude\", \"private_property_i\",\n",
    "                  \"crash_date_est_i\", \"photos_taken_i\", \"statements_taken_i\", \"work_zone_i\", \"workers_present_i\", \"dooring_i\",\n",
    "                  \"rd_no\", \"lane_cnt\", \"work_zone_type\", \"intersection_related_i\", \"hit_and_run_i\",\n",
    "                  \"first_crash_type\", \"alignment\", \"road_defect\", \"street_direction\", \"beat_of_occurrence\", \n",
    "                  \"injuries_non_incapacitating\"\n",
    "                 ], axis=1)"
   ]
  },
  {
   "cell_type": "code",
   "execution_count": 40,
   "id": "dc522f4c",
   "metadata": {
    "ExecuteTime": {
     "end_time": "2023-04-30T02:16:21.199206Z",
     "start_time": "2023-04-30T02:16:21.184708Z"
    }
   },
   "outputs": [
    {
     "data": {
      "text/plain": [
       "Index(['posted_speed_limit', 'traffic_control_device', 'device_condition',\n",
       "       'weather_condition', 'lighting_condition', 'trafficway_type',\n",
       "       'roadway_surface_cond', 'report_type', 'crash_type', 'damage',\n",
       "       'num_units', 'most_severe_injury', 'injuries_total', 'crash_hour',\n",
       "       'crash_day_of_week'],\n",
       "      dtype='object')"
      ]
     },
     "execution_count": 40,
     "metadata": {},
     "output_type": "execute_result"
    }
   ],
   "source": [
    "data.columns"
   ]
  },
  {
   "cell_type": "markdown",
   "id": "e2bb933c",
   "metadata": {},
   "source": [
    "## Data Wrangling"
   ]
  },
  {
   "cell_type": "code",
   "execution_count": 107,
   "id": "8564ef30",
   "metadata": {
    "ExecuteTime": {
     "end_time": "2023-04-30T03:12:47.339023Z",
     "start_time": "2023-04-30T03:12:47.238391Z"
    }
   },
   "outputs": [],
   "source": [
    "data.loc[:,\"traffic_control_device\"] = np.where(data.loc[:,\"traffic_control_device\"]!=\"NO CONTROLS\", 1, 0)\n",
    "data.loc[:,\"device_condition\"] = np.where(data.loc[:,\"device_condition\"]==\"FUNCTIONING PROPERLY\", 1, 0)\n",
    "data.loc[:,\"weather_condition\"] = np.where(data.loc[:,\"weather_condition\"].isin([\"CLEAR\", \"CLOUDY/OVERCAST\"]), 1, 0)\n",
    "data.loc[:,\"lighting_condition\"] = np.where(data.loc[:,\"lighting_condition\"]==\"DAYLIGHT\", 1, 0)\n",
    "data.loc[:,\"roadway_surface_cond\"] = np.where(data.loc[:,\"roadway_surface_cond\"]==\"DRY\", 1, 0)\n",
    "data.loc[:,\"report_type\"] = np.where(data.loc[:,\"report_type\"]==\"ON SCENE\", 1, 0)\n",
    "data.loc[:,\"crash_type\"] = np.where(data.loc[:,\"crash_type\"]==\"NO INJURY / DRIVE AWAY\", 1, 0)\n",
    "data.loc[:,\"num_units\"] = data.loc[:,\"num_units\"].astype(int)\n",
    "data.loc[:,\"num_units\"] = np.where(data.loc[:,\"num_units\"]>=3, 3, data.loc[:,\"num_units\"])\n",
    "data.loc[:,\"most_severe_injury\"] = np.where(data.loc[:,\"most_severe_injury\"]!=\"NO INDICATION OF INJURY\", 1, 0)\n",
    "data.loc[:,\"injuries_total\"] = np.where(data.loc[:,\"injuries_total\"]>=4, 4, data.loc[:,\"injuries_total\"])\n",
    "\n",
    "# to be One hot encoded\n",
    "data.loc[:,\"trafficway_type\"] = np.where(~data.loc[:,\"trafficway_type\"].isin([\"DIVIDED - W/MEDIAN (NOT RAISED)\", \"NOT DIVIDED\"]), \"Other\", data.loc[:,\"trafficway_type\"])\n",
    "data.loc[:,\"crash_hour\"] = data.loc[:,\"crash_hour\"].astype(str)\n",
    "data.loc[:,\"crash_day_of_week\"] = data.loc[:,\"crash_day_of_week\"].astype(str)\n",
    "\n",
    "# Target variable\n",
    "data.loc[:,\"damage\"] = np.where(data.loc[:,\"damage\"]==\"OVER $1,500\", 1, 0)"
   ]
  },
  {
   "cell_type": "markdown",
   "id": "f50efc0b",
   "metadata": {},
   "source": [
    "## Correlation matrix"
   ]
  },
  {
   "cell_type": "code",
   "execution_count": 108,
   "id": "58284dc5",
   "metadata": {
    "ExecuteTime": {
     "end_time": "2023-04-30T03:12:50.405978Z",
     "start_time": "2023-04-30T03:12:50.382018Z"
    }
   },
   "outputs": [],
   "source": [
    "numeric_cols = [\"posted_speed_limit\", \"num_units\", \"injuries_total\"]\n",
    "for col in data.columns:\n",
    "    if col not in numeric_cols:\n",
    "        data[col] = data[col].astype('object')"
   ]
  },
  {
   "cell_type": "code",
   "execution_count": 109,
   "id": "8da6cdb1",
   "metadata": {
    "ExecuteTime": {
     "end_time": "2023-04-30T03:12:52.560027Z",
     "start_time": "2023-04-30T03:12:52.541514Z"
    },
    "scrolled": true
   },
   "outputs": [
    {
     "name": "stdout",
     "output_type": "stream",
     "text": [
      "                    posted_speed_limit  num_units  injuries_total\n",
      "posted_speed_limit            1.000000   0.045485        0.084128\n",
      "num_units                     0.045485   1.000000        0.085674\n",
      "injuries_total                0.084128   0.085674        1.000000\n"
     ]
    }
   ],
   "source": [
    "# None of the numeric columns were correlated\n",
    "corr_df = data[numeric_cols].corr()\n",
    "print(corr_df)\n",
    "for col in corr_df:\n",
    "    for index in corr_df:\n",
    "        if index!= col:\n",
    "            if corr_df.loc[index, col] >= 0.5:\n",
    "                print(index, col)"
   ]
  },
  {
   "cell_type": "code",
   "execution_count": 48,
   "id": "15b4c116",
   "metadata": {
    "ExecuteTime": {
     "end_time": "2023-04-30T02:22:11.070373Z",
     "start_time": "2023-04-30T02:22:11.056578Z"
    }
   },
   "outputs": [
    {
     "data": {
      "text/plain": [
       "Index(['posted_speed_limit', 'traffic_control_device', 'device_condition',\n",
       "       'weather_condition', 'lighting_condition', 'trafficway_type',\n",
       "       'roadway_surface_cond', 'report_type', 'crash_type', 'damage',\n",
       "       'num_units', 'most_severe_injury', 'injuries_total', 'crash_hour',\n",
       "       'crash_day_of_week'],\n",
       "      dtype='object')"
      ]
     },
     "execution_count": 48,
     "metadata": {},
     "output_type": "execute_result"
    }
   ],
   "source": [
    "data.columns"
   ]
  },
  {
   "cell_type": "code",
   "execution_count": 113,
   "id": "00ce9620",
   "metadata": {
    "ExecuteTime": {
     "end_time": "2023-04-30T03:13:43.624920Z",
     "start_time": "2023-04-30T03:13:43.102540Z"
    },
    "collapsed": true
   },
   "outputs": [
    {
     "name": "stdout",
     "output_type": "stream",
     "text": [
      "P-value: weather_condition crash_type 0.00035108871121433644\n",
      "P-value: weather_condition most_severe_injury 1.2526425696981233e-08\n",
      "P-value: weather_condition crash_hour 2.8751404005435644e-61\n",
      "P-value: weather_condition crash_day_of_week 8.719522063347892e-99\n",
      "P-value: crash_type weather_condition 0.0003510887112143366\n",
      "P-value: crash_type damage 0.0\n",
      "P-value: crash_type most_severe_injury 0.0\n",
      "P-value: crash_type crash_hour 4.150083036070965e-219\n",
      "P-value: crash_type crash_day_of_week 9.410984099507015e-26\n",
      "P-value: damage crash_type 0.0\n",
      "P-value: damage most_severe_injury 2.7945883212360286e-42\n",
      "P-value: damage crash_hour 2.6751452909904767e-52\n",
      "P-value: damage crash_day_of_week 2.0230674610185294e-09\n",
      "P-value: most_severe_injury weather_condition 1.2526425696981233e-08\n",
      "P-value: most_severe_injury crash_type 0.0\n",
      "P-value: most_severe_injury damage 2.7945883212360286e-42\n",
      "P-value: most_severe_injury crash_hour 2.0467950262219302e-16\n",
      "P-value: most_severe_injury crash_day_of_week 0.010073591838760831\n",
      "P-value: crash_hour weather_condition 2.875140400543483e-61\n",
      "P-value: crash_hour crash_type 4.150083036070965e-219\n",
      "P-value: crash_hour damage 2.6751452909904767e-52\n",
      "P-value: crash_hour most_severe_injury 2.0467950262219302e-16\n",
      "P-value: crash_hour crash_day_of_week 0.0\n",
      "P-value: crash_day_of_week weather_condition 8.71952206334839e-99\n",
      "P-value: crash_day_of_week crash_type 9.410984099506879e-26\n",
      "P-value: crash_day_of_week damage 2.0230674610185294e-09\n",
      "P-value: crash_day_of_week most_severe_injury 0.010073591838760831\n",
      "P-value: crash_day_of_week crash_hour 0.0\n"
     ]
    }
   ],
   "source": [
    "for col1 in data.select_dtypes(include=['object']).columns:\n",
    "    for col2 in data.select_dtypes(include=['object']).columns:\n",
    "        if col1!=col2:\n",
    "            contingency_table = pd.crosstab(data[col1].astype(str), data[col2].astype(str))\n",
    "            chi2, p, dof, expected = chi2_contingency(contingency_table)\n",
    "            if p < 0.05:\n",
    "                print('P-value:', col1, col2, p)"
   ]
  },
  {
   "cell_type": "code",
   "execution_count": 112,
   "id": "cf1e5224",
   "metadata": {
    "ExecuteTime": {
     "end_time": "2023-04-30T03:13:40.883624Z",
     "start_time": "2023-04-30T03:13:40.869634Z"
    }
   },
   "outputs": [],
   "source": [
    "data = data.drop([\"traffic_control_device\", \"device_condition\", \"trafficway_type\", \n",
    "                  \"report_type\", \"roadway_surface_cond\", \"lighting_condition\"],axis=1)"
   ]
  },
  {
   "cell_type": "code",
   "execution_count": 102,
   "id": "67e78182",
   "metadata": {
    "ExecuteTime": {
     "end_time": "2023-04-30T03:11:32.078942Z",
     "start_time": "2023-04-30T03:11:32.063055Z"
    }
   },
   "outputs": [
    {
     "data": {
      "text/html": [
       "<div>\n",
       "<style scoped>\n",
       "    .dataframe tbody tr th:only-of-type {\n",
       "        vertical-align: middle;\n",
       "    }\n",
       "\n",
       "    .dataframe tbody tr th {\n",
       "        vertical-align: top;\n",
       "    }\n",
       "\n",
       "    .dataframe thead th {\n",
       "        text-align: right;\n",
       "    }\n",
       "</style>\n",
       "<table border=\"1\" class=\"dataframe\">\n",
       "  <thead>\n",
       "    <tr style=\"text-align: right;\">\n",
       "      <th></th>\n",
       "      <th>posted_speed_limit</th>\n",
       "      <th>weather_condition</th>\n",
       "      <th>lighting_condition</th>\n",
       "      <th>roadway_surface_cond</th>\n",
       "      <th>crash_type</th>\n",
       "      <th>damage</th>\n",
       "      <th>num_units</th>\n",
       "      <th>most_severe_injury</th>\n",
       "      <th>injuries_total</th>\n",
       "      <th>crash_hour</th>\n",
       "      <th>crash_day_of_week</th>\n",
       "    </tr>\n",
       "  </thead>\n",
       "  <tbody>\n",
       "    <tr>\n",
       "      <th>0</th>\n",
       "      <td>30</td>\n",
       "      <td>0</td>\n",
       "      <td>1</td>\n",
       "      <td>0</td>\n",
       "      <td>1</td>\n",
       "      <td>0</td>\n",
       "      <td>2</td>\n",
       "      <td>0</td>\n",
       "      <td>0.0</td>\n",
       "      <td>16</td>\n",
       "      <td>4</td>\n",
       "    </tr>\n",
       "    <tr>\n",
       "      <th>1</th>\n",
       "      <td>30</td>\n",
       "      <td>1</td>\n",
       "      <td>1</td>\n",
       "      <td>1</td>\n",
       "      <td>1</td>\n",
       "      <td>0</td>\n",
       "      <td>2</td>\n",
       "      <td>0</td>\n",
       "      <td>0.0</td>\n",
       "      <td>15</td>\n",
       "      <td>4</td>\n",
       "    </tr>\n",
       "    <tr>\n",
       "      <th>2</th>\n",
       "      <td>30</td>\n",
       "      <td>1</td>\n",
       "      <td>1</td>\n",
       "      <td>1</td>\n",
       "      <td>1</td>\n",
       "      <td>1</td>\n",
       "      <td>2</td>\n",
       "      <td>0</td>\n",
       "      <td>0.0</td>\n",
       "      <td>15</td>\n",
       "      <td>4</td>\n",
       "    </tr>\n",
       "    <tr>\n",
       "      <th>3</th>\n",
       "      <td>30</td>\n",
       "      <td>0</td>\n",
       "      <td>1</td>\n",
       "      <td>0</td>\n",
       "      <td>1</td>\n",
       "      <td>0</td>\n",
       "      <td>2</td>\n",
       "      <td>0</td>\n",
       "      <td>0.0</td>\n",
       "      <td>15</td>\n",
       "      <td>4</td>\n",
       "    </tr>\n",
       "    <tr>\n",
       "      <th>4</th>\n",
       "      <td>25</td>\n",
       "      <td>1</td>\n",
       "      <td>1</td>\n",
       "      <td>1</td>\n",
       "      <td>0</td>\n",
       "      <td>1</td>\n",
       "      <td>3</td>\n",
       "      <td>0</td>\n",
       "      <td>0.0</td>\n",
       "      <td>15</td>\n",
       "      <td>4</td>\n",
       "    </tr>\n",
       "  </tbody>\n",
       "</table>\n",
       "</div>"
      ],
      "text/plain": [
       "   posted_speed_limit weather_condition lighting_condition  \\\n",
       "0                  30                 0                  1   \n",
       "1                  30                 1                  1   \n",
       "2                  30                 1                  1   \n",
       "3                  30                 0                  1   \n",
       "4                  25                 1                  1   \n",
       "\n",
       "  roadway_surface_cond crash_type damage  num_units most_severe_injury  \\\n",
       "0                    0          1      0          2                  0   \n",
       "1                    1          1      0          2                  0   \n",
       "2                    1          1      1          2                  0   \n",
       "3                    0          1      0          2                  0   \n",
       "4                    1          0      1          3                  0   \n",
       "\n",
       "   injuries_total crash_hour crash_day_of_week  \n",
       "0             0.0         16                 4  \n",
       "1             0.0         15                 4  \n",
       "2             0.0         15                 4  \n",
       "3             0.0         15                 4  \n",
       "4             0.0         15                 4  "
      ]
     },
     "execution_count": 102,
     "metadata": {},
     "output_type": "execute_result"
    }
   ],
   "source": [
    "data.head()"
   ]
  },
  {
   "cell_type": "markdown",
   "id": "14aa8e48",
   "metadata": {},
   "source": [
    "## One Hot Encoding"
   ]
  },
  {
   "cell_type": "code",
   "execution_count": 114,
   "id": "78e32b97",
   "metadata": {
    "ExecuteTime": {
     "end_time": "2023-04-30T03:14:01.173606Z",
     "start_time": "2023-04-30T03:14:01.142871Z"
    }
   },
   "outputs": [],
   "source": [
    "\n",
    "data = pd.get_dummies(data, columns=['crash_hour', 'crash_day_of_week'] )\n"
   ]
  },
  {
   "cell_type": "code",
   "execution_count": 121,
   "id": "a4faf85c",
   "metadata": {
    "ExecuteTime": {
     "end_time": "2023-04-30T03:16:59.225229Z",
     "start_time": "2023-04-30T03:16:59.182593Z"
    }
   },
   "outputs": [],
   "source": [
    "for col in data.columns:\n",
    "    data.loc[:,col] = data.loc[:,col].astype(int)"
   ]
  },
  {
   "cell_type": "code",
   "execution_count": 115,
   "id": "d79e9b63",
   "metadata": {
    "ExecuteTime": {
     "end_time": "2023-04-30T03:14:14.978809Z",
     "start_time": "2023-04-30T03:14:14.966740Z"
    }
   },
   "outputs": [
    {
     "data": {
      "text/plain": [
       "(31258, 38)"
      ]
     },
     "execution_count": 115,
     "metadata": {},
     "output_type": "execute_result"
    }
   ],
   "source": [
    "data.shape"
   ]
  },
  {
   "cell_type": "code",
   "execution_count": 122,
   "id": "89b68366",
   "metadata": {
    "ExecuteTime": {
     "end_time": "2023-04-30T03:17:02.528127Z",
     "start_time": "2023-04-30T03:17:02.493722Z"
    }
   },
   "outputs": [],
   "source": [
    "y = \"damage\"\n",
    "train, test = train_test_split(data, test_size=0.2, random_state = 100, stratify=data[y])\n",
    "x_train = train.drop(y, axis=1)\n",
    "y_train = train[y]\n",
    "x_test = test.drop(y, axis=1)\n",
    "y_test = test[y]"
   ]
  },
  {
   "cell_type": "markdown",
   "id": "27f94731",
   "metadata": {},
   "source": [
    "## Logistic Regression"
   ]
  },
  {
   "cell_type": "code",
   "execution_count": 123,
   "id": "c999ad22",
   "metadata": {
    "ExecuteTime": {
     "end_time": "2023-04-30T03:17:06.476430Z",
     "start_time": "2023-04-30T03:17:06.150611Z"
    }
   },
   "outputs": [],
   "source": [
    "# Logistic Regression\n",
    "logreg = LogisticRegression(max_iter=1000)\n",
    "logreg = logreg.fit(x_train, y_train)\n",
    "yhat_logit_test = logreg.predict(x_test)\n",
    "yhat_logit_train = logreg.predict(x_train)\n",
    "print(confusion_matrix(y_test, yhat_logit_test))\n",
    "print(\"training error: \", accuracy_score(y_train, yhat_logit_train))\n",
    "print(\"testing error: \", accuracy_score(y_test, yhat_logit_test))\n",
    "\n",
    "# Random Forests (Bagging model)\n",
    "# Hyperparameter tuning using Grid Search\n",
    "param_grid = {\"criterion\": ['gini', 'entropy'],\n",
    "             \"n_estimators\": [200, 400, 600],\n",
    "              \"min_samples_leaf\": [40],\n",
    "              \"max_depth\": [3,5,7]\n",
    "                #\"max_features\": [None, 'auto']\n",
    "              }\n"
   ]
  },
  {
   "cell_type": "markdown",
   "id": "9366d8f1",
   "metadata": {},
   "source": [
    "## Random Forests"
   ]
  },
  {
   "cell_type": "code",
   "execution_count": 126,
   "id": "bfe450ec",
   "metadata": {
    "ExecuteTime": {
     "end_time": "2023-04-30T03:17:52.110786Z",
     "start_time": "2023-04-30T03:17:12.984150Z"
    }
   },
   "outputs": [
    {
     "name": "stdout",
     "output_type": "stream",
     "text": [
      "Fitting 3 folds for each of 18 candidates, totalling 54 fits\n"
     ]
    },
    {
     "data": {
      "text/plain": [
       "{'criterion': 'gini',\n",
       " 'max_depth': 3,\n",
       " 'min_samples_leaf': 40,\n",
       " 'n_estimators': 200}"
      ]
     },
     "execution_count": 126,
     "metadata": {},
     "output_type": "execute_result"
    }
   ],
   "source": [
    "rf = RandomForestClassifier(n_jobs=8)\n",
    "gs = GridSearchCV(\n",
    "    estimator=rf, \n",
    "    param_grid=param_grid,\n",
    "    cv=3,\n",
    "    refit=True,\n",
    "    verbose=True,\n",
    "    n_jobs=8)\n",
    "gs.fit(x_train, y_train)\n",
    "print(gs.best_params_)\n",
    "\n",
    "rf = RandomForestClassifier(max_depth=3, \n",
    "                            random_state=4, \n",
    "                            min_samples_leaf=40, \n",
    "                            n_jobs=4,\n",
    "                            n_estimators=200,\n",
    "                            criterion='gini'\n",
    "                           )\n",
    "rf.fit(x_train.values, y_train.values)\n",
    "yhat_rf = rf.predict(x_test)\n",
    "print(\"Testing Error: \", accuracy_score(y_test, yhat_rf))\n",
    "yhat_rf_train = rf.predict(x_train)\n",
    "print(\"Training Error: \", accuracy_score(y_train, yhat_rf_train))"
   ]
  }
 ],
 "metadata": {
  "kernelspec": {
   "display_name": "Python 3 (ipykernel)",
   "language": "python",
   "name": "python3"
  },
  "language_info": {
   "codemirror_mode": {
    "name": "ipython",
    "version": 3
   },
   "file_extension": ".py",
   "mimetype": "text/x-python",
   "name": "python",
   "nbconvert_exporter": "python",
   "pygments_lexer": "ipython3",
   "version": "3.9.13"
  },
  "toc": {
   "base_numbering": 1,
   "nav_menu": {},
   "number_sections": true,
   "sideBar": true,
   "skip_h1_title": false,
   "title_cell": "Table of Contents",
   "title_sidebar": "Contents",
   "toc_cell": false,
   "toc_position": {},
   "toc_section_display": true,
   "toc_window_display": false
  },
  "varInspector": {
   "cols": {
    "lenName": 16,
    "lenType": 16,
    "lenVar": 40
   },
   "kernels_config": {
    "python": {
     "delete_cmd_postfix": "",
     "delete_cmd_prefix": "del ",
     "library": "var_list.py",
     "varRefreshCmd": "print(var_dic_list())"
    },
    "r": {
     "delete_cmd_postfix": ") ",
     "delete_cmd_prefix": "rm(",
     "library": "var_list.r",
     "varRefreshCmd": "cat(var_dic_list()) "
    }
   },
   "types_to_exclude": [
    "module",
    "function",
    "builtin_function_or_method",
    "instance",
    "_Feature"
   ],
   "window_display": false
  }
 },
 "nbformat": 4,
 "nbformat_minor": 5
}
